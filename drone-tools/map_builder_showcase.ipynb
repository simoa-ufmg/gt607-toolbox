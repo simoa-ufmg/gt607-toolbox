{
 "cells": [
  {
   "cell_type": "markdown",
   "id": "58886056-8310-45ce-8454-71eabcf647fc",
   "metadata": {},
   "source": [
    "## Esse notebook exemplifica o funcionamento da ferramenta de renderização de mapas inclusa na Toolbox do GT-607.\n",
    "O algoritmo recebe arquivos .csv e usa das informaçoes de latitude e longitude nos arquivos para renderizar pontos em um mapa. Os pontos podem receber um gradiente de cores baseado em colunas dos arquivos .csv e podem ser filtrados baseados na sua data.\n",
    "Nesse notebook os pontos gerados recebem como parâmetro os algoritmos do artigo Castro 2020."
   ]
  },
  {
   "cell_type": "code",
   "execution_count": 2,
   "id": "f5900d1a-1d2e-4b49-bcb6-79a1b92e9b33",
   "metadata": {},
   "outputs": [],
   "source": [
    "import pandas as pd\n",
    "import keplergl\n",
    "import configparser\n",
    "import ast\n",
    "import glob"
   ]
  },
  {
   "cell_type": "code",
   "execution_count": 3,
   "id": "fddad327-b9b8-4800-a0f6-689bfcd2a01a",
   "metadata": {},
   "outputs": [],
   "source": [
    "global df, kivu, kab_1, sabi, ndci, ndvi, bda_1, bda_2, bda_31, gb1, gr, kepler_map"
   ]
  },
  {
   "cell_type": "markdown",
   "id": "f68abde1-7036-4e90-9c69-504bc987d722",
   "metadata": {},
   "source": [
    "### Define-se as colunas a serem utilizadas como parâmetros para o gradiente de cores dos pontos.\n",
    "A função recebe como parâmetro dois arquivos .csv, um com os metadados de fotos de drone contendo as informações de geoposição e data de captura e o outro contendo a mediana extraida de 30% da foto processada em relação ao seu centro."
   ]
  },
  {
   "cell_type": "code",
   "execution_count": 4,
   "id": "909892b0-6990-4fbb-adbd-7e6b914b4837",
   "metadata": {},
   "outputs": [],
   "source": [
    "def map_builder(metadata, chl_algo):\n",
    "    global df, kivu, kab_1, sabi, ndci, ndvi, bda_1, bda_2, bda_31, bda_mod , gb1,b3b1 , gr\n",
    "\n",
    "    metadata = pd.read_csv(metadata)\n",
    "    \n",
    "    chl_algo = pd.read_csv(chl_algo)\n",
    "\n",
    "    kivu = pd.concat([metadata, chl_algo['KIVU']], axis=1)\n",
    "\n",
    "    kab_1 = pd.concat([metadata, chl_algo['Kab 1(Rs)']], axis = 1)\n",
    "\n",
    "    sabi = pd.concat([metadata, chl_algo['SABI']], axis = 1)\n",
    "\n",
    "    ndci = pd.concat([metadata, chl_algo['NDCI']], axis = 1)\n",
    "    \n",
    "    ndvi = pd.concat([metadata, chl_algo['NDVI']], axis = 1)\n",
    "    \n",
    "    bda_1 = pd.concat([metadata, chl_algo['2BDA_1']], axis = 1)\n",
    "    \n",
    "    bda_2 = pd.concat([metadata, chl_algo['2BDA_2']], axis = 1)\n",
    "\n",
    "    bda_31 = pd.concat([metadata, chl_algo['3BDA_1']], axis = 1)\n",
    "    \n",
    "    bda_mod = pd.concat([metadata, chl_algo['3BDA_MOD']], axis = 1)\n",
    "    \n",
    "    b3b1 = pd.concat([metadata, chl_algo['B3B1']], axis = 1)\n",
    "    \n",
    "    gb1 = pd.concat([metadata, chl_algo['GB1']], axis = 1)\n",
    "    \n",
    "    gr = pd.concat([metadata, chl_algo['GR']], axis = 1)\n",
    "    \n",
    "def df_builder():\n",
    "    global df\n",
    "    df = pd.DataFrame()\n",
    "    df = pd.concat([kivu, sabi, ndci, ndvi, bda_1, bda_2, bda_31, bda_mod, b3b1, gb1, gr], axis=1)\n",
    "    df = df.loc[:,~df.columns.duplicated()]\n",
    "    return df"
   ]
  },
  {
   "cell_type": "markdown",
   "id": "1f11fdbd-7fb2-4fd5-b8c6-535e9921b5ac",
   "metadata": {},
   "source": [
    "### Adicionando dados ao mapa\n",
    "A função abaixo permite explicitar quais algoritmos serão adicionados ao mapa. Como mencionado acima, o mapa aceita dados .csv, .xlsx, dataframes e geojsons. \n",
    "A função recebe como parâmetro os dataframes que serão adicionados ao mapa."
   ]
  },
  {
   "cell_type": "code",
   "execution_count": 5,
   "id": "58d4a339-a61a-4ee9-8a28-6846eea16cd4",
   "metadata": {},
   "outputs": [],
   "source": [
    "def add_data_map(kivu, kivu_name, sabi, sabi_name , ndci, ndci_name , ndvi,ndvi_name, bda_1, bda_1_name, bda_2,bda_2_name , bda_31,bda_31_name, bda_mod,bda_mod_name, b3b1,b3b1_name, gb1,gb1_name, gr, gr_name):\n",
    "    kepler_map.add_data(data=kivu, name=kivu_name)\n",
    "    kepler_map.add_data(data= sabi, name= sabi_name)\n",
    "    kepler_map.add_data(data= ndci, name= ndci_name)\n",
    "    kepler_map.add_data(data= ndvi, name= ndvi_name)\n",
    "    kepler_map.add_data(data= bda_1, name= bda_1_name)\n",
    "    kepler_map.add_data(data= bda_2, name= bda_2_name)\n",
    "    kepler_map.add_data(data= bda_31, name= bda_31_name)\n",
    "    kepler_map.add_data(data= bda_mod, name= bda_mod_name)\n",
    "    kepler_map.add_data(data= b3b1, name= b3b1_name)\n",
    "    kepler_map.add_data(data= gb1, name= gb1_name)\n",
    "    kepler_map.add_data(data= gr, name= gr_name)"
   ]
  },
  {
   "cell_type": "markdown",
   "id": "c1526852-196c-4763-a46f-52ccfc8dd751",
   "metadata": {},
   "source": [
    "### Renderização do mapa\n",
    "\n",
    "O mapa abaixo, além de ser renderizado em tempo real em um jupyter-notebook, também é exportado como arquivo .html interativo. "
   ]
  },
  {
   "cell_type": "code",
   "execution_count": 6,
   "id": "8f0cf277-54d0-4b01-9665-d9a5659276ff",
   "metadata": {},
   "outputs": [
    {
     "name": "stdout",
     "output_type": "stream",
     "text": [
      "User Guide: https://docs.kepler.gl/docs/keplergl-jupyter\n",
      "[]\n"
     ]
    },
    {
     "ename": "ValueError",
     "evalue": "No objects to concatenate",
     "output_type": "error",
     "traceback": [
      "\u001b[1;31m---------------------------------------------------------------------------\u001b[0m",
      "\u001b[1;31mValueError\u001b[0m                                Traceback (most recent call last)",
      "\u001b[1;32m<ipython-input-6-61716b615f33>\u001b[0m in \u001b[0;36m<module>\u001b[1;34m\u001b[0m\n\u001b[0;32m     23\u001b[0m     \u001b[0mkepler_map\u001b[0m\u001b[1;33m.\u001b[0m\u001b[0msave_to_html\u001b[0m\u001b[1;33m(\u001b[0m\u001b[0mfile_name\u001b[0m \u001b[1;33m=\u001b[0m \u001b[1;34m'map.html'\u001b[0m\u001b[1;33m)\u001b[0m\u001b[1;33m\u001b[0m\u001b[1;33m\u001b[0m\u001b[0m\n\u001b[0;32m     24\u001b[0m     \u001b[0mkepler_map\u001b[0m\u001b[1;33m\u001b[0m\u001b[1;33m\u001b[0m\u001b[0m\n\u001b[1;32m---> 25\u001b[1;33m \u001b[0mfields\u001b[0m\u001b[1;33m(\u001b[0m\u001b[1;33m)\u001b[0m\u001b[1;33m\u001b[0m\u001b[1;33m\u001b[0m\u001b[0m\n\u001b[0m",
      "\u001b[1;32m<ipython-input-6-61716b615f33>\u001b[0m in \u001b[0;36mfields\u001b[1;34m()\u001b[0m\n\u001b[0;32m     17\u001b[0m         \u001b[0mdata\u001b[0m \u001b[1;33m=\u001b[0m \u001b[0mdf_builder\u001b[0m\u001b[1;33m(\u001b[0m\u001b[1;33m)\u001b[0m\u001b[1;33m\u001b[0m\u001b[1;33m\u001b[0m\u001b[0m\n\u001b[0;32m     18\u001b[0m         \u001b[0mdf_list\u001b[0m\u001b[1;33m.\u001b[0m\u001b[0mappend\u001b[0m\u001b[1;33m(\u001b[0m\u001b[0mdata\u001b[0m\u001b[1;33m)\u001b[0m\u001b[1;33m\u001b[0m\u001b[1;33m\u001b[0m\u001b[0m\n\u001b[1;32m---> 19\u001b[1;33m     \u001b[0mall_data\u001b[0m \u001b[1;33m=\u001b[0m \u001b[0mpd\u001b[0m\u001b[1;33m.\u001b[0m\u001b[0mconcat\u001b[0m\u001b[1;33m(\u001b[0m\u001b[0mdf_list\u001b[0m\u001b[1;33m)\u001b[0m\u001b[1;33m\u001b[0m\u001b[1;33m\u001b[0m\u001b[0m\n\u001b[0m\u001b[0;32m     20\u001b[0m     \u001b[0mall_data\u001b[0m\u001b[1;33m[\u001b[0m\u001b[1;34m'DateTime'\u001b[0m\u001b[1;33m]\u001b[0m \u001b[1;33m=\u001b[0m \u001b[0mpd\u001b[0m\u001b[1;33m.\u001b[0m\u001b[0mto_datetime\u001b[0m\u001b[1;33m(\u001b[0m\u001b[0mall_data\u001b[0m\u001b[1;33m[\u001b[0m\u001b[1;34m'DateTime'\u001b[0m\u001b[1;33m]\u001b[0m\u001b[1;33m,\u001b[0m \u001b[0mformat\u001b[0m \u001b[1;33m=\u001b[0m \u001b[1;34m'%Y:%m:%d %H:%M:%S'\u001b[0m\u001b[1;33m)\u001b[0m\u001b[1;33m\u001b[0m\u001b[1;33m\u001b[0m\u001b[0m\n\u001b[0;32m     21\u001b[0m     \u001b[0mall_data\u001b[0m\u001b[1;33m[\u001b[0m\u001b[1;34m\"DateTime\"\u001b[0m\u001b[1;33m]\u001b[0m \u001b[1;33m=\u001b[0m  \u001b[0mall_data\u001b[0m\u001b[1;33m[\u001b[0m\u001b[1;34m\"DateTime\"\u001b[0m\u001b[1;33m]\u001b[0m\u001b[1;33m.\u001b[0m\u001b[0mastype\u001b[0m\u001b[1;33m(\u001b[0m\u001b[0mstr\u001b[0m\u001b[1;33m)\u001b[0m\u001b[1;33m\u001b[0m\u001b[1;33m\u001b[0m\u001b[0m\n",
      "\u001b[1;32m~\\.conda\\envs\\micasense\\lib\\site-packages\\pandas\\util\\_decorators.py\u001b[0m in \u001b[0;36mwrapper\u001b[1;34m(*args, **kwargs)\u001b[0m\n\u001b[0;32m    309\u001b[0m                     \u001b[0mstacklevel\u001b[0m\u001b[1;33m=\u001b[0m\u001b[0mstacklevel\u001b[0m\u001b[1;33m,\u001b[0m\u001b[1;33m\u001b[0m\u001b[1;33m\u001b[0m\u001b[0m\n\u001b[0;32m    310\u001b[0m                 )\n\u001b[1;32m--> 311\u001b[1;33m             \u001b[1;32mreturn\u001b[0m \u001b[0mfunc\u001b[0m\u001b[1;33m(\u001b[0m\u001b[1;33m*\u001b[0m\u001b[0margs\u001b[0m\u001b[1;33m,\u001b[0m \u001b[1;33m**\u001b[0m\u001b[0mkwargs\u001b[0m\u001b[1;33m)\u001b[0m\u001b[1;33m\u001b[0m\u001b[1;33m\u001b[0m\u001b[0m\n\u001b[0m\u001b[0;32m    312\u001b[0m \u001b[1;33m\u001b[0m\u001b[0m\n\u001b[0;32m    313\u001b[0m         \u001b[1;32mreturn\u001b[0m \u001b[0mwrapper\u001b[0m\u001b[1;33m\u001b[0m\u001b[1;33m\u001b[0m\u001b[0m\n",
      "\u001b[1;32m~\\.conda\\envs\\micasense\\lib\\site-packages\\pandas\\core\\reshape\\concat.py\u001b[0m in \u001b[0;36mconcat\u001b[1;34m(objs, axis, join, ignore_index, keys, levels, names, verify_integrity, sort, copy)\u001b[0m\n\u001b[0;32m    302\u001b[0m         \u001b[0mverify_integrity\u001b[0m\u001b[1;33m=\u001b[0m\u001b[0mverify_integrity\u001b[0m\u001b[1;33m,\u001b[0m\u001b[1;33m\u001b[0m\u001b[1;33m\u001b[0m\u001b[0m\n\u001b[0;32m    303\u001b[0m         \u001b[0mcopy\u001b[0m\u001b[1;33m=\u001b[0m\u001b[0mcopy\u001b[0m\u001b[1;33m,\u001b[0m\u001b[1;33m\u001b[0m\u001b[1;33m\u001b[0m\u001b[0m\n\u001b[1;32m--> 304\u001b[1;33m         \u001b[0msort\u001b[0m\u001b[1;33m=\u001b[0m\u001b[0msort\u001b[0m\u001b[1;33m,\u001b[0m\u001b[1;33m\u001b[0m\u001b[1;33m\u001b[0m\u001b[0m\n\u001b[0m\u001b[0;32m    305\u001b[0m     )\n\u001b[0;32m    306\u001b[0m \u001b[1;33m\u001b[0m\u001b[0m\n",
      "\u001b[1;32m~\\.conda\\envs\\micasense\\lib\\site-packages\\pandas\\core\\reshape\\concat.py\u001b[0m in \u001b[0;36m__init__\u001b[1;34m(self, objs, axis, join, keys, levels, names, ignore_index, verify_integrity, copy, sort)\u001b[0m\n\u001b[0;32m    349\u001b[0m \u001b[1;33m\u001b[0m\u001b[0m\n\u001b[0;32m    350\u001b[0m         \u001b[1;32mif\u001b[0m \u001b[0mlen\u001b[0m\u001b[1;33m(\u001b[0m\u001b[0mobjs\u001b[0m\u001b[1;33m)\u001b[0m \u001b[1;33m==\u001b[0m \u001b[1;36m0\u001b[0m\u001b[1;33m:\u001b[0m\u001b[1;33m\u001b[0m\u001b[1;33m\u001b[0m\u001b[0m\n\u001b[1;32m--> 351\u001b[1;33m             \u001b[1;32mraise\u001b[0m \u001b[0mValueError\u001b[0m\u001b[1;33m(\u001b[0m\u001b[1;34m\"No objects to concatenate\"\u001b[0m\u001b[1;33m)\u001b[0m\u001b[1;33m\u001b[0m\u001b[1;33m\u001b[0m\u001b[0m\n\u001b[0m\u001b[0;32m    352\u001b[0m \u001b[1;33m\u001b[0m\u001b[0m\n\u001b[0;32m    353\u001b[0m         \u001b[1;32mif\u001b[0m \u001b[0mkeys\u001b[0m \u001b[1;32mis\u001b[0m \u001b[1;32mNone\u001b[0m\u001b[1;33m:\u001b[0m\u001b[1;33m\u001b[0m\u001b[1;33m\u001b[0m\u001b[0m\n",
      "\u001b[1;31mValueError\u001b[0m: No objects to concatenate"
     ]
    }
   ],
   "source": [
    "def fields():\n",
    "    global kepler_map\n",
    "    config = configparser.ConfigParser()\n",
    "    config.read_file(open(r'map_config.txt'))\n",
    "    map_config = config.get('map_config', 'map_config')\n",
    "    map_config = ast.literal_eval(map_config)\n",
    "    \n",
    "    kepler_map = keplergl.KeplerGl(height=1000, config= map_config)    \n",
    "    field_data = glob.glob('field_data_*')\n",
    "    print(field_data)\n",
    "    df_list = []\n",
    "    for i in field_data:\n",
    "        print(i)\n",
    "        chl_algo = i + '/chl_algo_reflectance_60.csv'\n",
    "        metadata = i + '/metadata.csv'\n",
    "        map_builder(metadata, chl_algo)\n",
    "        data = df_builder()\n",
    "        df_list.append(data)\n",
    "    all_data = pd.concat(df_list)\n",
    "    all_data['DateTime'] = pd.to_datetime(all_data['DateTime'], format = '%Y:%m:%d %H:%M:%S')\n",
    "    all_data[\"DateTime\"] =  all_data[\"DateTime\"].astype(str)\n",
    "    add_data_map(all_data,'KIVU', all_data,'SABI' , all_data,'NDCI', all_data,'NDVI', all_data,'2BDA_1', all_data,'2BDA_2', all_data,'3BDA_1', all_data,'3BDA_MOD', all_data,'B3B1', all_data,'GB1', all_data, 'GR')\n",
    "    kepler_map.save_to_html(file_name = 'map.html')\n",
    "    kepler_map\n",
    "fields()"
   ]
  }
 ],
 "metadata": {
  "kernelspec": {
   "display_name": "Python 3",
   "language": "python",
   "name": "python3"
  },
  "language_info": {
   "codemirror_mode": {
    "name": "ipython",
    "version": 3
   },
   "file_extension": ".py",
   "mimetype": "text/x-python",
   "name": "python",
   "nbconvert_exporter": "python",
   "pygments_lexer": "ipython3",
   "version": "3.7.10"
  }
 },
 "nbformat": 4,
 "nbformat_minor": 5
}
