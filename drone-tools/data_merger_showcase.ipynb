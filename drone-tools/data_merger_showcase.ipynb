{
 "cells": [
  {
   "cell_type": "markdown",
   "id": "0bbad3a0-1c73-4f22-bf2e-04b97c60e124",
   "metadata": {},
   "source": [
    "### This notebook exemplifies how the merging algorithm included in the GT-607 Toolbox, which is based on distance and dates between the subaquatic probe and the drone, works.\n",
    "The code is fed .csv files and it uses coordinate and date time data in those files to merge points registered by the drone and by the probe. At first, the \n",
    "cartesian product elicited from\tequal dates of the two data sets is computed. Then the distance between each merged point is calculated using the haversine formula to determinate the great-circle distance between two points on a sphere given their longitudes and latitudes.\n",
    "At the end, points 100 meters further from each other are filtered out. "
   ]
  },
  {
   "cell_type": "code",
   "execution_count": 2,
   "id": "d3435604-08ab-4f81-b7db-425e41fc9e0a",
   "metadata": {},
   "outputs": [],
   "source": [
    "import pandas as pd\n",
    "import numpy as np\n",
    "import math\n",
    "import configparser"
   ]
  },
  {
   "cell_type": "code",
   "execution_count": null,
   "id": "accbbe1b-e25d-4e7b-9714-95a22698b071",
   "metadata": {},
   "outputs": [],
   "source": [
    "paths = configparser.ConfigParser()\n",
    "paths.read_file(open(r'paths.txt'))\n",
    "field = paths.get('paths', 'field')\n",
    "field_name = field.split('\\\\')"
   ]
  },
  {
   "cell_type": "markdown",
   "id": "9577aa56-b1a1-4428-bcb9-5f403c100dbd",
   "metadata": {},
   "source": [
    "### Haversine formula. Receives latitude and longitude of two points as parameters."
   ]
  },
  {
   "cell_type": "code",
   "execution_count": null,
   "id": "f0b967c0-dc01-4d4c-9803-df5b13329ebb",
   "metadata": {},
   "outputs": [],
   "source": [
    "def haversine_meters(lat1, long1, lat2, long2):\n",
    "    dLat = np.radians(lat2-lat1)\n",
    "    dLong = np.radians(long2-long1)\n",
    "\n",
    "    lat1 = np.radians(lat1)\n",
    "    lat2 = np.radians(lat2)\n",
    "\n",
    "    a = np.sin(dLat/2) * np.sin(dLat/2) + np.sin(dLong/2) * np.sin(dLong/2) * np.cos(lat1) * np.cos(lat2)\n",
    "\n",
    "    m = 2 * math.atan2(np.sqrt(a), np.sqrt(1-a))\n",
    "    return m * 6371 * 1000"
   ]
  },
  {
   "cell_type": "markdown",
   "id": "3d9f809b-dc2e-4c01-913b-185f688ff616",
   "metadata": {},
   "source": [
    "### Data cleaning and cartesian product. "
   ]
  },
  {
   "cell_type": "code",
   "execution_count": 3,
   "id": "489caad2-96a1-4c32-a6d4-f037077d7c2d",
   "metadata": {},
   "outputs": [],
   "source": [
    "def data_merger(medians, metadata, probe, merge):\n",
    "    medians = pd.read_csv(medians)\n",
    "    metadata = pd.read_csv(metadata, parse_dates=['DateTime'], infer_datetime_format= True)\n",
    "    field_data = pd.concat([metadata, medians], axis=1)\n",
    "    field_data['DateTime'] = pd.to_datetime(field_data['DateTime'], format = '%Y:%m:%d %H:%M:%S')\n",
    "    field_data['DateTime'] = field_data['DateTime'].dt.date\n",
    "    field_data = field_data.rename(columns ={'Latitude':'lat_d', 'Longitude':'long_d'})\n",
    "    field_data.DateTime = pd.to_datetime(field_data.DateTime)\n",
    "    print(field_data.DateTime.unique())\n",
    "\n",
    "    #preparing probe data\n",
    "    probe = pd.read_excel(probe)\n",
    "    \n",
    "    probe['date'] = pd.to_datetime(probe['date'], format = '%Y-%d-%m %H:%M:%S') #Funciona para a pampulha new general table\n",
    "    \n",
    "    #probe['date'] = pd.to_datetime(probe['date'], format='%d-%m-%Y') #funciona para tres marias general table\n",
    "\n",
    "\n",
    "    #probe['date'] = pd.to_datetime(probe['date'], format = '%Y-%d-%m %H:%M:%S', exact=False) # funciona para pamps\n",
    "\n",
    "    probe = probe.rename(columns={'lat':'lat_p', 'lon':'long_p'})\n",
    "    probe['id'] = probe.index + 1\n",
    "\n",
    "    #merging data based on date\n",
    "    merged_data = pd.merge(left = field_data, left_on = 'DateTime', right = probe, \n",
    "                            right_on = 'date') #Dataframes merged on same date\n",
    "\n",
    "merged_data['Distance'] = [haversine_meters(long1 = merged_data.long_p[i], lat1 = merged_data.lat_p[i],long2 = merged_data.long_d[i], lat2 = merged_data.lat_d[i]) for i in range(len(merged_data))]\n",
    "merged_data['Distance'] = merged_data['Distance'].round(decimals=3)\n",
    "merge_mask = merged_data[(merged_data.Distance <= 100)]"
   ]
  },
  {
   "cell_type": "markdown",
   "id": "3d975ff6-150b-4eb9-b91d-b32106b62748",
   "metadata": {},
   "source": []
  }
 ],
 "metadata": {
  "kernelspec": {
   "display_name": "Python 3",
   "language": "python",
   "name": "python3"
  },
  "language_info": {
   "codemirror_mode": {
    "name": "ipython",
    "version": 3
   },
   "file_extension": ".py",
   "mimetype": "text/x-python",
   "name": "python",
   "nbconvert_exporter": "python",
   "pygments_lexer": "ipython3",
   "version": "3.7.10"
  }
 },
 "nbformat": 4,
 "nbformat_minor": 5
}
