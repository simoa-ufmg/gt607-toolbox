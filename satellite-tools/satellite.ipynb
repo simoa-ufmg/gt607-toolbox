{
 "cells": [
  {
   "cell_type": "markdown",
   "id": "de245c44-1278-4216-badb-5be37dc73b48",
   "metadata": {},
   "source": [
    "## This notebook exemplifies an use-case of the tool able to extract coordinates and pixel values from a SENTINEL2B photo."
   ]
  },
  {
   "cell_type": "markdown",
   "id": "46e08793-0b98-4a0a-a6ff-131d7232e255",
   "metadata": {},
   "source": [
    "This algorithm can work for every other satellite, but it may need some parameter tweaking, more specifically the parameter that determines the projection type. "
   ]
  },
  {
   "cell_type": "markdown",
   "id": "052f45f7-f3e5-4911-b9ab-71b7d528d5aa",
   "metadata": {},
   "source": [
    "Needed imports"
   ]
  },
  {
   "cell_type": "code",
   "execution_count": 1,
   "id": "8ded48ee-7712-4b61-9ff6-8684580250d9",
   "metadata": {},
   "outputs": [],
   "source": [
    "import numpy as np\n",
    "import cv2\n",
    "import os, glob\n",
    "import pandas as pd\n",
    "from itertools import product\n",
    "import affine\n",
    "from affine import Affine\n",
    "import pyproj\n",
    "from pyproj import Transformer\n",
    "import dask.dataframe as dd\n",
    "import dask.array as da\n",
    "import matplotlib.pyplot as plt\n",
    "import rasterio\n",
    "import rasterio.features\n",
    "import keplergl\n",
    "import ast\n",
    "import configparser"
   ]
  },
  {
   "cell_type": "markdown",
   "id": "0578b8f1-6b2a-4756-98ac-2eb2f19cfbba",
   "metadata": {},
   "source": [
    "### Declaring directory containing the photos\n",
    "Store the desired path in the \"sat\" variable inside the \"config.txt\" file."
   ]
  },
  {
   "cell_type": "code",
   "execution_count": 2,
   "id": "82c7e559-f1dd-419c-9565-6f7f0c781fc9",
   "metadata": {},
   "outputs": [],
   "source": [
    "paths = configparser.ConfigParser()\n",
    "paths.read_file(open(r'config.txt'))\n",
    "sat_img = paths.get('paths', 'sat')\n",
    "img_list = glob.glob(os.path.join(sat_img , '*.tif'))"
   ]
  },
  {
   "cell_type": "markdown",
   "id": "a76a261e-6425-403a-9816-ed235b6eff1a",
   "metadata": {},
   "source": [
    "### Variables needed to perform the affine transformation that converts the pixels positions to UTM XY coordinates.\n"
   ]
  },
  {
   "cell_type": "code",
   "execution_count": 3,
   "id": "26ffed25-6d4d-4ac9-aa02-76d183aa3de0",
   "metadata": {},
   "outputs": [],
   "source": [
    "img = rasterio.open(img_list[0])\n",
    "img_left = img.bounds[0]\n",
    "img_bottom = img.bounds[1]\n",
    "img_right = img.bounds[2]\n",
    "img_top = img.bounds[-1]"
   ]
  },
  {
   "cell_type": "markdown",
   "id": "3ea08c28-c7e7-4e22-9762-5c966e662d00",
   "metadata": {},
   "source": [
    "### An affine transformation is a geometric transformation that preserves lines and parallelism, and if needed, distances and angles.\n",
    "The parameters given to the affine tranformation are defined as such:\n",
    "* Height of a pixel in the north-south direction.\n",
    "* Angle in the Y axis. \n",
    "* UTM Y coordinates of top left pixel.\n",
    "* Angle in X axis. \n",
    "* Width of a pixel in the east-west direction.\n",
    "* UTM X coordinates of top right pixel."
   ]
  },
  {
   "cell_type": "code",
   "execution_count": 4,
   "id": "c256c490-ef80-4b5e-8904-12031b524608",
   "metadata": {},
   "outputs": [],
   "source": [
    "pixel_transform = affine.Affine(\n",
    "        -20,\n",
    "        0,\n",
    "        img_top,\n",
    "        0,\n",
    "        20,\n",
    "       img_left    \n",
    "        )"
   ]
  },
  {
   "cell_type": "markdown",
   "id": "17e2469d-ecad-42fb-a83a-44b761a402cf",
   "metadata": {},
   "source": [
    "### Variable that stores which coordinate transformation should be done. In this case EPSG 32723 are converted to EPSG 4326\n"
   ]
  },
  {
   "cell_type": "code",
   "execution_count": 5,
   "id": "38c37854-a863-47bc-a77b-94fdab78e4a2",
   "metadata": {},
   "outputs": [],
   "source": [
    "transformer = Transformer.from_crs(32723, 4326,  always_xy =True)"
   ]
  },
  {
   "cell_type": "markdown",
   "id": "0d7d8c65-1080-4d67-a24c-6b03e2a63127",
   "metadata": {},
   "source": [
    "### Converting and storing points."
   ]
  },
  {
   "cell_type": "code",
   "execution_count": 9,
   "id": "3f629f0a-ee4d-44a7-9f84-83f8062587bb",
   "metadata": {},
   "outputs": [],
   "source": [
    "df_list = []\n",
    "coords_list = []\n",
    "cart_list = []\n",
    "def points():\n",
    "    for img in img_list:\n",
    "        im = cv2.imread(img, -1)\n",
    "        height = range(im.shape[0])\n",
    "        width = range(im.shape[1])\n",
    "        im = im.flatten()\n",
    "        df = pd.DataFrame(im)\n",
    "        df.columns = ['value']\n",
    "        df_list.append(df)\n",
    "\n",
    "        #     height, width = im.shape[:2]\n",
    "\n",
    "        #     center = (width/2, height/2)\n",
    "\n",
    "        #     print(width, height)\n",
    "\n",
    "        #     rotate_matrix = cv2.getRotationMatrix2D(center=center, angle=90, scale=1)\n",
    "\n",
    "        #     rotated_image = cv2.warpAffine(src=im, M=rotate_matrix, dsize=(width, height))\n",
    "        coords = np.array(list(product(height, width)))\n",
    "\n",
    "        #     y = range(rotated_image.shape[0])\n",
    "        #     x = range(rotated_image.shape[1])\n",
    "        #     coords = np.array(list(product(y, x)))\n",
    "        #     print(coords)\n",
    "\n",
    "\n",
    "        coords_df = pd.DataFrame(coords, columns = ['Y', 'X'])\n",
    "\n",
    "\n",
    "        yy, xx = pixel_transform * (coords_df['Y'], coords_df['X'])\n",
    "\n",
    "\n",
    "        xx_latlng, yy_latlng = transformer.transform(xx,yy)\n",
    "\n",
    "        xx_latlng = pd.Series(xx_latlng)\n",
    "        yy_latlng = pd.Series(yy_latlng)\n",
    "\n",
    "        xx_yy = pd.concat([xx_latlng, yy_latlng], axis=1)\n",
    "        \n",
    "        xx_yy.columns = ['Longitude', 'Latitude']\n",
    "        \n",
    "        name = img.split('\\\\')\n",
    "        name = name[-1]\n",
    "        name = name.replace('.tif', '')\n",
    "        \n",
    "        xx_yy.name = name\n",
    "        df.name = name\n",
    "\n",
    "        cart_list.append(coords_df)\n",
    "\n",
    "        coords_list.append(xx_yy)\n",
    "points()\n",
    "\n",
    "minimal = df_list[0]['value'].min()\n",
    "path_namer = sat_img\n",
    "df_namer = glob.glob(os.path.join(path_namer , '*.tif'))"
   ]
  },
  {
   "cell_type": "markdown",
   "id": "ae350f9c-cdb3-4a38-8524-adeb227b373b",
   "metadata": {},
   "source": [
    "### The coordinates and pixel values obtained above are stored in a .csv file in a folder named data_sat.\n",
    "The folder creates itself if it doesn't already exists."
   ]
  },
  {
   "cell_type": "code",
   "execution_count": 10,
   "id": "bbb9f242-d843-4d00-a866-e1d0e3d557ef",
   "metadata": {},
   "outputs": [
    {
     "name": "stdout",
     "output_type": "stream",
     "text": [
      "Diretório sat_data já existe\n",
      "B2_20m_Mask_NDWI\n",
      "B2\n",
      "B3_20m_Mask_NDWI\n",
      "B3\n",
      "B4_20m_Mask_NDWI\n",
      "B4\n"
     ]
    }
   ],
   "source": [
    "points = []\n",
    "\n",
    "if os.path.isdir(\"sat_data\"):\n",
    "    print('Diretório sat_data já existe')\n",
    "else:\n",
    "    print('Diretório sat_data criado')\n",
    "    os.mkdir(\"sat_data\")\n",
    "\n",
    "for d in df_list:\n",
    "    print(d.name)\n",
    "    merge = pd.concat([d, coords_list[0]], axis=1)\n",
    "    merge_mask = merge[(merge['value'] > minimal)]\n",
    "    img_band = df_namer[0].replace(path_namer, '')\n",
    "    img_band = img_band.replace('_20m_Mask_NDWI.tif', '')\n",
    "    img_band = img_band.replace('\\\\', '')\n",
    "    merge_mask.name = img_band\n",
    "    print(merge_mask.name)\n",
    "    df_namer.pop(0)\n",
    "    coords_list.pop(0)\n",
    "    #     img_band = df_namer[0].replace(path_namer, '')\n",
    "    #     img_band = img_band.replace('_20m_Mask_NDWI.tif', '')\n",
    "    #     merge.name = img_band\n",
    "    #coords_list.pop(0)\n",
    "    #    df_namer.pop(0)\n",
    "\n",
    "    points.append(merge_mask)\n",
    "for j in points:\n",
    "    j.to_csv('sat_data/{}.csv'.format(j.name), index=False)"
   ]
  },
  {
   "cell_type": "code",
   "execution_count": null,
   "id": "03a72c93-eb81-446f-9ae8-19c1c3eed4c0",
   "metadata": {},
   "outputs": [],
   "source": []
  }
 ],
 "metadata": {
  "kernelspec": {
   "display_name": "Python 3",
   "language": "python",
   "name": "python3"
  },
  "language_info": {
   "codemirror_mode": {
    "name": "ipython",
    "version": 3
   },
   "file_extension": ".py",
   "mimetype": "text/x-python",
   "name": "python",
   "nbconvert_exporter": "python",
   "pygments_lexer": "ipython3",
   "version": "3.7.10"
  }
 },
 "nbformat": 4,
 "nbformat_minor": 5
}
