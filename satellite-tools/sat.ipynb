{
 "cells": [
  {
   "cell_type": "code",
   "execution_count": 1,
   "id": "b45f6620",
   "metadata": {},
   "outputs": [],
   "source": [
    "import numpy as np\n",
    "import cv2\n",
    "import os, glob\n",
    "import pandas as pd\n",
    "from itertools import product\n",
    "import affine\n",
    "from affine import Affine\n",
    "import pyproj\n",
    "import dask.dataframe as dd\n",
    "import dask.array as da\n",
    "import matplotlib.pyplot as plt\n",
    "import rasterio\n",
    "import rasterio.features\n",
    "import keplergl\n",
    "import ast\n",
    "import configparser\n"
   ]
  },
  {
   "cell_type": "code",
   "execution_count": 2,
   "id": "3e4bb997-ec3c-48eb-8438-991f3afc6e33",
   "metadata": {},
   "outputs": [],
   "source": [
    "paths = configparser.ConfigParser()\n",
    "paths.read_file(open(r'config.txt'))\n",
    "path = paths.get('paths', 'sat')"
   ]
  },
  {
   "cell_type": "code",
   "execution_count": 3,
   "id": "0d17d0b9",
   "metadata": {},
   "outputs": [],
   "source": [
    "pixel_transform = affine.Affine(  # Converte X, Y redimensionado para X, Y real\n",
    "        -20,\n",
    "        # largura de 1 pixel em metros /norte-sul/ corresponde a variação na direção Y para fazer a escala para\n",
    "        # medidas geoespaciais\n",
    "        0, # rotação Y, como é uma foto a rotação é 0\n",
    "        7988882.041015626,  # coordenadas geoespaciais Y do pixel do canto superior esquerdo / translação do Y para executar a\n",
    "        # escala de maneira precisa. A translação é uma transformação na qual todos os pontos em uma linha\n",
    "        # denominada(nesse caso Y) permanecem estáticos enquanto os outros pontos se movem a uma distância\n",
    "        # proporcional a distância perpendicular ao ponto de referência estático. Essa translação não altera a área.\n",
    "         0, # rotação X, foto = rotação 0\n",
    "        20,  # altura de 1 pixel /leste-oeste / variação na direção X para fazer a escala para medidas\n",
    "        # geoespaciais\n",
    "       441509.58984375\n",
    "  # coordenadas geoespaciais X do pixel do canto superior direito / translação\n",
    "    )\n"
   ]
  },
  {
   "cell_type": "code",
   "execution_count": 4,
   "id": "83def542-8fd2-4f30-a578-228c745a2d4c",
   "metadata": {},
   "outputs": [
    {
     "name": "stdout",
     "output_type": "stream",
     "text": [
      "C:\\Users\\pcosm\\Desktop\\Teia\\S2-Kivu\n"
     ]
    }
   ],
   "source": [
    "print(path)"
   ]
  },
  {
   "cell_type": "code",
   "execution_count": 5,
   "id": "11a54d21",
   "metadata": {},
   "outputs": [
    {
     "name": "stdout",
     "output_type": "stream",
     "text": [
      "|-20.00, 0.00, 7988882.04|\n",
      "| 0.00, 20.00, 441509.59|\n",
      "| 0.00, 0.00, 1.00|\n"
     ]
    }
   ],
   "source": [
    "print(pixel_transform)\n",
    "pd.set_option(\"display.precision\", 15)"
   ]
  },
  {
   "cell_type": "code",
   "execution_count": 6,
   "id": "f6af3ae8",
   "metadata": {},
   "outputs": [],
   "source": [
    "from pyproj import Transformer\n",
    "transformer = Transformer.from_crs(32723, 4326,  always_xy =True)"
   ]
  },
  {
   "cell_type": "code",
   "execution_count": 7,
   "id": "0b57172d",
   "metadata": {},
   "outputs": [],
   "source": [
    "img_list = glob.glob(os.path.join(path , '*.tif'))"
   ]
  },
  {
   "cell_type": "code",
   "execution_count": 8,
   "id": "de3e658c-66e0-48f0-ba88-386070699a59",
   "metadata": {},
   "outputs": [
    {
     "name": "stdout",
     "output_type": "stream",
     "text": [
      "['C:', 'Users', 'pcosm', 'Desktop', 'Teia', 'S2-Kivu', 'B11_20m_Mask_NDWI.tif']\n",
      "B11_20m_Mask_NDWI.tif\n",
      "['C:', 'Users', 'pcosm', 'Desktop', 'Teia', 'S2-Kivu', 'B12_20m_Mask_NDWI.tif']\n",
      "B12_20m_Mask_NDWI.tif\n",
      "['C:', 'Users', 'pcosm', 'Desktop', 'Teia', 'S2-Kivu', 'B2_20m_Mask_NDWI.tif']\n",
      "B2_20m_Mask_NDWI.tif\n",
      "['C:', 'Users', 'pcosm', 'Desktop', 'Teia', 'S2-Kivu', 'B3_20m_Mask_NDWI.tif']\n",
      "B3_20m_Mask_NDWI.tif\n",
      "['C:', 'Users', 'pcosm', 'Desktop', 'Teia', 'S2-Kivu', 'B4_20m_Mask_NDWI.tif']\n",
      "B4_20m_Mask_NDWI.tif\n",
      "['C:', 'Users', 'pcosm', 'Desktop', 'Teia', 'S2-Kivu', 'B5_20m_Mask_NDWI.tif']\n",
      "B5_20m_Mask_NDWI.tif\n",
      "['C:', 'Users', 'pcosm', 'Desktop', 'Teia', 'S2-Kivu', 'B6_20m_Mask_NDWI.tif']\n",
      "B6_20m_Mask_NDWI.tif\n",
      "['C:', 'Users', 'pcosm', 'Desktop', 'Teia', 'S2-Kivu', 'B7_20m_Mask_NDWI.tif']\n",
      "B7_20m_Mask_NDWI.tif\n",
      "['C:', 'Users', 'pcosm', 'Desktop', 'Teia', 'S2-Kivu', 'B8A_20m_Mask_NDWI.tif']\n",
      "B8A_20m_Mask_NDWI.tif\n",
      "['C:', 'Users', 'pcosm', 'Desktop', 'Teia', 'S2-Kivu', 'B8_20m_Mask_NDWI.tif']\n",
      "B8_20m_Mask_NDWI.tif\n"
     ]
    }
   ],
   "source": [
    "for p in img_list:\n",
    "    p = p.split('\\\\')\n",
    "    print(p)\n",
    "    p = p[-1]\n",
    "    print(p)"
   ]
  },
  {
   "cell_type": "code",
   "execution_count": 9,
   "id": "59b3793e",
   "metadata": {},
   "outputs": [
    {
     "name": "stdout",
     "output_type": "stream",
     "text": [
      "B11_20m_Mask_NDWI\n",
      "B12_20m_Mask_NDWI\n",
      "B2_20m_Mask_NDWI\n",
      "B3_20m_Mask_NDWI\n",
      "B4_20m_Mask_NDWI\n",
      "B5_20m_Mask_NDWI\n",
      "B6_20m_Mask_NDWI\n",
      "B7_20m_Mask_NDWI\n",
      "B8A_20m_Mask_NDWI\n",
      "B8_20m_Mask_NDWI\n",
      "10\n"
     ]
    }
   ],
   "source": [
    "df_list = []\n",
    "coords_list = []\n",
    "cart_list = []\n",
    "def points():\n",
    "    for img in img_list:\n",
    "    # im = cv2.imread(img_list[0], -1)\n",
    "\n",
    "        im = cv2.imread(img, -1)\n",
    "        height = range(im.shape[0])\n",
    "        width = range(im.shape[1])\n",
    "        im = im.flatten()\n",
    "        df = pd.DataFrame(im)\n",
    "        df.columns = ['value']\n",
    "        df_list.append(df)\n",
    "\n",
    "        #     height, width = im.shape[:2]\n",
    "\n",
    "        #     center = (width/2, height/2)\n",
    "\n",
    "        #     print(width, height)\n",
    "\n",
    "        #     rotate_matrix = cv2.getRotationMatrix2D(center=center, angle=90, scale=1)\n",
    "\n",
    "        #     rotated_image = cv2.warpAffine(src=im, M=rotate_matrix, dsize=(width, height))\n",
    "        coords = np.array(list(product(height, width)))\n",
    "\n",
    "        #     y = range(rotated_image.shape[0])\n",
    "        #     x = range(rotated_image.shape[1])\n",
    "        #     coords = np.array(list(product(y, x)))\n",
    "        #     print(coords)\n",
    "\n",
    "\n",
    "        coords_df = pd.DataFrame(coords, columns = ['Y', 'X'])\n",
    "\n",
    "\n",
    "        yy, xx = pixel_transform * (coords_df['Y'], coords_df['X'])\n",
    "\n",
    "\n",
    "\n",
    "\n",
    "\n",
    "        #     utm23s = pyproj.CRS('epsg:32723')  # EPSG 32723 (X, Y geoespaciais)\n",
    "        #     wgs84 = pyproj.CRS('epsg:4326')  # EPSG WGS84 (lat/lng) 4326\n",
    "\n",
    "        #     latlng_proj = pyproj.Transformer.from_crs(wgs84, utm23s, always_xy=True)  # converte 4326(lat, long) para 32723(X,Y)\n",
    "        #     proj_latlng = pyproj.Transformer.from_crs(utm23s, wgs84)  # converte 32723(X,Y) para 4326(lat, long)\n",
    "\n",
    "\n",
    "        #     ul_x, ul_y = latlng_proj.transform(-45.553001496814865, -18.188492870464525)\n",
    "\n",
    "        xx_latlng, yy_latlng = transformer.transform(xx,yy)\n",
    "\n",
    "        #     yy_latlng, xx_latlng = proj_latlng.transform(xx, yy)\n",
    "\n",
    "        xx_latlng = pd.Series(xx_latlng)\n",
    "        yy_latlng = pd.Series(yy_latlng)\n",
    "\n",
    "        xx_yy = pd.concat([xx_latlng, yy_latlng], axis=1)\n",
    "        \n",
    "        xx_yy.columns = ['Longitude', 'Latitude']\n",
    "        \n",
    "        name = img.split('\\\\')\n",
    "        name = name[-1]\n",
    "        name = name.replace('.tif', '')\n",
    "        \n",
    "        xx_yy.name = name\n",
    "        df.name = name\n",
    "        print(xx_yy.name)\n",
    "        \n",
    "        \n",
    "        \n",
    "\n",
    "        cart_list.append(coords_df)\n",
    "\n",
    "        coords_list.append(xx_yy)\n",
    "    print(len(coords_list))\n",
    "points()"
   ]
  },
  {
   "cell_type": "code",
   "execution_count": 10,
   "id": "1f72590b-8fb9-40f8-974c-0825e4e77d71",
   "metadata": {},
   "outputs": [
    {
     "name": "stdout",
     "output_type": "stream",
     "text": [
      "['C:\\\\Users\\\\pcosm\\\\Desktop\\\\Teia\\\\S2-Kivu\\\\B11_20m_Mask_NDWI.tif', 'C:\\\\Users\\\\pcosm\\\\Desktop\\\\Teia\\\\S2-Kivu\\\\B12_20m_Mask_NDWI.tif', 'C:\\\\Users\\\\pcosm\\\\Desktop\\\\Teia\\\\S2-Kivu\\\\B2_20m_Mask_NDWI.tif', 'C:\\\\Users\\\\pcosm\\\\Desktop\\\\Teia\\\\S2-Kivu\\\\B3_20m_Mask_NDWI.tif', 'C:\\\\Users\\\\pcosm\\\\Desktop\\\\Teia\\\\S2-Kivu\\\\B4_20m_Mask_NDWI.tif', 'C:\\\\Users\\\\pcosm\\\\Desktop\\\\Teia\\\\S2-Kivu\\\\B5_20m_Mask_NDWI.tif', 'C:\\\\Users\\\\pcosm\\\\Desktop\\\\Teia\\\\S2-Kivu\\\\B6_20m_Mask_NDWI.tif', 'C:\\\\Users\\\\pcosm\\\\Desktop\\\\Teia\\\\S2-Kivu\\\\B7_20m_Mask_NDWI.tif', 'C:\\\\Users\\\\pcosm\\\\Desktop\\\\Teia\\\\S2-Kivu\\\\B8A_20m_Mask_NDWI.tif', 'C:\\\\Users\\\\pcosm\\\\Desktop\\\\Teia\\\\S2-Kivu\\\\B8_20m_Mask_NDWI.tif']\n"
     ]
    }
   ],
   "source": [
    "minimal = df_list[0]['value'].min()\n",
    "path_namer = path\n",
    "df_namer = glob.glob(os.path.join(path_namer , '*.tif'))\n",
    "print(df_namer)"
   ]
  },
  {
   "cell_type": "code",
   "execution_count": 11,
   "id": "54b96a54-bc5b-4bcb-8aaf-eadde2871d31",
   "metadata": {},
   "outputs": [
    {
     "name": "stdout",
     "output_type": "stream",
     "text": [
      "C:\\Users\\pcosm\\Desktop\\Teia\\S2-Kivu\\B11_20m_Mask_NDWI.tif\n",
      "C:\\Users\\pcosm\\Desktop\\Teia\\S2-Kivu\\B12_20m_Mask_NDWI.tif\n",
      "C:\\Users\\pcosm\\Desktop\\Teia\\S2-Kivu\\B2_20m_Mask_NDWI.tif\n",
      "C:\\Users\\pcosm\\Desktop\\Teia\\S2-Kivu\\B3_20m_Mask_NDWI.tif\n",
      "C:\\Users\\pcosm\\Desktop\\Teia\\S2-Kivu\\B4_20m_Mask_NDWI.tif\n",
      "C:\\Users\\pcosm\\Desktop\\Teia\\S2-Kivu\\B5_20m_Mask_NDWI.tif\n",
      "C:\\Users\\pcosm\\Desktop\\Teia\\S2-Kivu\\B6_20m_Mask_NDWI.tif\n",
      "C:\\Users\\pcosm\\Desktop\\Teia\\S2-Kivu\\B7_20m_Mask_NDWI.tif\n",
      "C:\\Users\\pcosm\\Desktop\\Teia\\S2-Kivu\\B8A_20m_Mask_NDWI.tif\n",
      "C:\\Users\\pcosm\\Desktop\\Teia\\S2-Kivu\\B8_20m_Mask_NDWI.tif\n"
     ]
    }
   ],
   "source": [
    "for name in df_namer:\n",
    "    print(name)"
   ]
  },
  {
   "cell_type": "code",
   "execution_count": 12,
   "id": "880dd69b-8151-4752-8d90-55cca2b3732b",
   "metadata": {},
   "outputs": [
    {
     "name": "stdout",
     "output_type": "stream",
     "text": [
      "B3_20m_Mask_NDWI\n"
     ]
    }
   ],
   "source": [
    "print(df_list[3].name)"
   ]
  },
  {
   "cell_type": "code",
   "execution_count": 13,
   "id": "bd23dbcf",
   "metadata": {},
   "outputs": [
    {
     "name": "stdout",
     "output_type": "stream",
     "text": [
      "B11_20m_Mask_NDWI\n",
      "B11\n",
      "B12_20m_Mask_NDWI\n",
      "B12\n",
      "B2_20m_Mask_NDWI\n",
      "B2\n",
      "B3_20m_Mask_NDWI\n",
      "B3\n",
      "B4_20m_Mask_NDWI\n",
      "B4\n",
      "B5_20m_Mask_NDWI\n",
      "B5\n",
      "B6_20m_Mask_NDWI\n",
      "B6\n",
      "B7_20m_Mask_NDWI\n",
      "B7\n",
      "B8A_20m_Mask_NDWI\n",
      "B8A\n",
      "B8_20m_Mask_NDWI\n",
      "B8\n"
     ]
    }
   ],
   "source": [
    "points = []\n",
    "for d in df_list:\n",
    "    print(d.name)\n",
    "    merge = pd.concat([d, coords_list[0]], axis=1)\n",
    "    merge_mask = merge[(merge['value'] > minimal)]\n",
    "    img_band = df_namer[0].replace(path_namer, '')\n",
    "    img_band = img_band.replace('_20m_Mask_NDWI.tif', '')\n",
    "    img_band = img_band.replace('\\\\', '')\n",
    "    merge_mask.name = img_band\n",
    "    print(merge_mask.name)\n",
    "    df_namer.pop(0)\n",
    "    coords_list.pop(0)\n",
    "    #     img_band = df_namer[0].replace(path_namer, '')\n",
    "    #     img_band = img_band.replace('_20m_Mask_NDWI.tif', '')\n",
    "    #     merge.name = img_band\n",
    "    #coords_list.pop(0)\n",
    "    #    df_namer.pop(0)\n",
    "    points.append(merge_mask)\n",
    "    "
   ]
  },
  {
   "cell_type": "code",
   "execution_count": 14,
   "id": "4066aeb1",
   "metadata": {},
   "outputs": [],
   "source": [
    "#path_namer = 'C:\\\\Users\\\\pcosm\\\\Desktop\\\\S2-KIVU\\\\'\n"
   ]
  },
  {
   "cell_type": "code",
   "execution_count": 15,
   "id": "f029af8c",
   "metadata": {},
   "outputs": [],
   "source": [
    "#df_namer = glob.glob(os.path.join(path_namer , '*.tif'))"
   ]
  },
  {
   "cell_type": "code",
   "execution_count": 16,
   "id": "6a2b9ab7",
   "metadata": {},
   "outputs": [],
   "source": [
    "# path_namer = 'C:\\\\Users\\\\pcosm\\\\Desktop\\\\S2-KIVU\\\\'\n",
    "# df_namer = glob.glob(os.path.join(path_namer , '*.tif'))\n",
    "# merge_list = []\n",
    "\n",
    "# for i in points:\n",
    "#     merge_mask = i[(i['value'] > minimal)]\n",
    "#     img_band = df_namer[0].replace(path_namer, '')\n",
    "#     img_band = img_band.replace('_20m_Mask_NDWI.tif', '')\n",
    "#     merge_mask.name = img_band\n",
    "#     df_namer.pop(0)\n",
    "#     merge_list.append(merge_mask)"
   ]
  },
  {
   "cell_type": "code",
   "execution_count": 17,
   "id": "aa6ceacf",
   "metadata": {},
   "outputs": [
    {
     "name": "stdout",
     "output_type": "stream",
     "text": [
      "B11\n",
      "B12\n",
      "B2\n",
      "B3\n",
      "B4\n",
      "B5\n",
      "B6\n",
      "B7\n",
      "B8A\n",
      "B8\n"
     ]
    }
   ],
   "source": [
    "for a in points:\n",
    "    print(a.name)"
   ]
  },
  {
   "cell_type": "code",
   "execution_count": 18,
   "id": "8f95a930",
   "metadata": {},
   "outputs": [],
   "source": [
    "for j in points:\n",
    "    j.to_csv('data_sat/{}.csv'.format(j.name), index=False)"
   ]
  },
  {
   "cell_type": "code",
   "execution_count": 19,
   "id": "33054f99",
   "metadata": {},
   "outputs": [
    {
     "name": "stdout",
     "output_type": "stream",
     "text": [
      "Wall time: 8.2 s\n"
     ]
    }
   ],
   "source": [
    "%%time\n",
    "b2 = pd.read_csv('data_sat/b2.csv')\n",
    "b3 = pd.read_csv('data_sat/b3.csv')\n",
    "b4 = pd.read_csv('data_sat/b4.csv')\n",
    "b5 = pd.read_csv('data_sat/b5.csv')\n",
    "b6 = pd.read_csv('data_sat/b6.csv')\n",
    "b7 = pd.read_csv('data_sat/b7.csv')\n",
    "b8 = pd.read_csv('data_sat/b8.csv')\n",
    "b8a = pd.read_csv('data_sat/b8a.csv')"
   ]
  },
  {
   "cell_type": "code",
   "execution_count": 20,
   "id": "ddaa64a3",
   "metadata": {},
   "outputs": [],
   "source": [
    "kab1 = 1.67 - 3.94 * np.log(b2.value) + 3.78* np.log(b3.value)\n",
    "sabi = (b8a.value - b4.value) / (b2.value + b3.value)\n",
    "kivu = (b2.value  - b4.value )/ b3.value\n",
    "ndci = (b5.value - b4.value )/(b5.value + b4.value)\n",
    "twobda_1 =  b6.value / b4.value\n",
    "twobda_2 = b7.value / b4.value\n",
    "threebda_1 = (b4.value ** -1 - b5.value ** -1) * b6.value\n",
    "threebda_2 = (b4.value ** -1 - b5.value ** -1) * b7.value\n",
    "b3b2 =  (b3.value - b2.value) / (b3.value + b2.value)\n",
    "gb2 = b3.value / b2.value\n",
    "gr = b3.value / b4.value"
   ]
  },
  {
   "cell_type": "code",
   "execution_count": 21,
   "id": "fce9bb05",
   "metadata": {},
   "outputs": [],
   "source": [
    "kab1.name = 'KAB1_sat'\n",
    "sabi.name = 'SABI_sat'\n",
    "kivu.name = 'KIVU_sat'\n",
    "ndci.name = 'NDCI_sat'\n",
    "twobda_1.name = '2BDA_1_sat'\n",
    "twobda_2.name = '2BDA_2_sat'\n",
    "threebda_1.name = '3BDA_1_sat'\n",
    "threebda_2.name = '3BDA_2_sat'\n",
    "b3b2.name = 'B3B2_sat'\n",
    "gb2.name = 'GB2_sat'\n",
    "gr.name = 'GR_sat'"
   ]
  },
  {
   "cell_type": "code",
   "execution_count": 22,
   "id": "bfff0f4b",
   "metadata": {},
   "outputs": [],
   "source": [
    "# kab1 = pd.concat([kab1, b2.X], axis=1)\n",
    "# kab1 = pd.concat([kab1, b2.Y], axis=1)\n",
    "\n",
    "def chl_coords(df1, df2):\n",
    "    df1 = pd.concat([df1, df2.Latitude], axis= 1)\n",
    "    df1 = pd.concat([df1, df2.Longitude], axis = 1)\n",
    "    return df1\n",
    "kab1 = chl_coords(kab1, b2)\n",
    "sabi = chl_coords(sabi, b2)\n",
    "kivu = chl_coords(kivu, b2)\n",
    "ndci = chl_coords(ndci, b2)\n",
    "twobda_1 = chl_coords(twobda_1, b2)\n",
    "twobda_2 = chl_coords(twobda_2, b2)\n",
    "threebda_1 = chl_coords(threebda_1, b2)\n",
    "threebda_2 = chl_coords(threebda_2, b2)\n",
    "b3b2 = chl_coords(b3b2, b2)\n",
    "gb2 = chl_coords(gb2, b2)\n",
    "gr = chl_coords(gr, b2)"
   ]
  },
  {
   "cell_type": "code",
   "execution_count": 23,
   "id": "78dbde2e",
   "metadata": {},
   "outputs": [],
   "source": [
    "def renamer(df):\n",
    "    df = df.rename(columns = {'value': 'df.name'})\n",
    "    return df\n",
    "kab1 = renamer(kab1)\n",
    "sabi = renamer(sabi)\n",
    "kivu = renamer(kivu)\n",
    "ndci = renamer(ndci)\n",
    "twobda_1 = renamer(twobda_1)\n",
    "twobda_2 = renamer(threebda_2)\n",
    "threebda_1 = renamer(threebda_1)\n",
    "threebda_2 = renamer(threebda_2)\n",
    "b3b2 = renamer(b3b2)\n",
    "gb2 = renamer(gb2)\n",
    "gr = renamer(gr)"
   ]
  },
  {
   "cell_type": "code",
   "execution_count": 31,
   "id": "c3e64add",
   "metadata": {},
   "outputs": [],
   "source": [
    "df_algs = [kab1, sabi, kivu, ndci, twobda_1, twobda_2, threebda_1, threebda_2, b3b2, gb2, gr]\n",
    "df_names = ['kab1', 'sabi', 'kivu', 'ndci', 'twobda_1', 'twobda_2', 'threebda_1', 'threebda_2', 'b3b2', 'gb2', 'gr']"
   ]
  },
  {
   "cell_type": "code",
   "execution_count": 33,
   "id": "e519db84",
   "metadata": {},
   "outputs": [],
   "source": [
    "i = 0\n",
    "for z in df_algs:\n",
    "    z.to_csv('data_sat/{}.csv'.format(df_names[i]), index=False)\n",
    "    i+= 1"
   ]
  },
  {
   "cell_type": "code",
   "execution_count": null,
   "id": "37770853",
   "metadata": {},
   "outputs": [],
   "source": [
    "config = configparser.ConfigParser()\n",
    "config.read_file(open(r'map_config.txt'))\n",
    "map_config = config.get('map_config', 'map_config')\n",
    "map_config = ast.literal_eval(map_config)\n",
    "kepler_map = keplergl.KeplerGl(height=1000, config= map_config)\n",
    "\n",
    "kepler_map.add_data(data=kivu, name=\"KIVU\")"
   ]
  },
  {
   "cell_type": "code",
   "execution_count": null,
   "id": "af8c24b9",
   "metadata": {},
   "outputs": [],
   "source": [
    "#  kepler_map.save_to_html(data={'data_1': kivu}, file_name='kivu.html')"
   ]
  },
  {
   "cell_type": "code",
   "execution_count": null,
   "id": "01a6189f",
   "metadata": {},
   "outputs": [],
   "source": [
    "# kepler_map.add_data(data=kab1, name=\"KAB1\")"
   ]
  },
  {
   "cell_type": "code",
   "execution_count": null,
   "id": "a4853b37",
   "metadata": {},
   "outputs": [],
   "source": [
    "# kepler_map.add_data(data= sabi, name= \"SABI\")"
   ]
  },
  {
   "cell_type": "code",
   "execution_count": null,
   "id": "77ecfd54",
   "metadata": {},
   "outputs": [],
   "source": [
    "kepler_map.add_data(data= ndci, name= \"NDCI\")"
   ]
  },
  {
   "cell_type": "code",
   "execution_count": null,
   "id": "84478a83",
   "metadata": {},
   "outputs": [],
   "source": [
    "# kepler_map.add_data(data= twobda_1, name= \"2BDA_1\")"
   ]
  },
  {
   "cell_type": "code",
   "execution_count": null,
   "id": "87d8fb8e-43fe-490d-8ca9-61ae23224ec1",
   "metadata": {},
   "outputs": [],
   "source": [
    "kepler_map"
   ]
  },
  {
   "cell_type": "code",
   "execution_count": null,
   "id": "c6dc8ac5",
   "metadata": {},
   "outputs": [],
   "source": [
    "# kepler_map.add_data(data= twobda_2, name= \"2BDA_2\")"
   ]
  },
  {
   "cell_type": "code",
   "execution_count": null,
   "id": "e94e5e55",
   "metadata": {},
   "outputs": [],
   "source": [
    "# kepler_map.add_data(data= threebda_1, name= \"3BDA_1\")"
   ]
  },
  {
   "cell_type": "code",
   "execution_count": null,
   "id": "cddcc6dc",
   "metadata": {},
   "outputs": [],
   "source": [
    "# kepler_map.add_data(data= threebda_2, name= \"3BDA_MOD\")"
   ]
  },
  {
   "cell_type": "code",
   "execution_count": null,
   "id": "9bd29724",
   "metadata": {},
   "outputs": [],
   "source": [
    "# kepler_map.add_data(data= b3b2, name= \"B3B1\")"
   ]
  },
  {
   "cell_type": "code",
   "execution_count": null,
   "id": "9fe9b23f",
   "metadata": {},
   "outputs": [],
   "source": [
    "# kepler_map.add_data(data= gb2, name= \"GB1\")"
   ]
  },
  {
   "cell_type": "code",
   "execution_count": null,
   "id": "70d38533",
   "metadata": {},
   "outputs": [],
   "source": [
    "# kepler_map.add_data(data= gr, name= \"GR\")"
   ]
  },
  {
   "cell_type": "code",
   "execution_count": null,
   "id": "f626284c",
   "metadata": {},
   "outputs": [],
   "source": [
    "# import geopandas\n",
    "# gdf = geopandas.GeoDataFrame(\n",
    "#     kab1, geometry=geopandas.points_from_xy(kab1.Longitude, kab1.Latitude))"
   ]
  },
  {
   "cell_type": "code",
   "execution_count": null,
   "id": "c50470e2",
   "metadata": {},
   "outputs": [],
   "source": [
    "# gdf"
   ]
  },
  {
   "cell_type": "code",
   "execution_count": null,
   "id": "8f7b2d54",
   "metadata": {},
   "outputs": [],
   "source": []
  }
 ],
 "metadata": {
  "kernelspec": {
   "display_name": "Python [conda env:.conda-micasense] *",
   "language": "python",
   "name": "conda-env-.conda-micasense-py"
  },
  "language_info": {
   "codemirror_mode": {
    "name": "ipython",
    "version": 3
   },
   "file_extension": ".py",
   "mimetype": "text/x-python",
   "name": "python",
   "nbconvert_exporter": "python",
   "pygments_lexer": "ipython3",
   "version": "3.7.10"
  }
 },
 "nbformat": 4,
 "nbformat_minor": 5
}
